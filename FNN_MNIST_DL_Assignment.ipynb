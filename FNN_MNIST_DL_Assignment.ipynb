{
  "nbformat": 4,
  "nbformat_minor": 0,
  "metadata": {
    "colab": {
      "provenance": []
    },
    "kernelspec": {
      "name": "python3",
      "display_name": "Python 3"
    },
    "language_info": {
      "name": "python"
    }
  },
  "cells": [
    {
      "cell_type": "code",
      "source": [
        "pip install torchviz"
      ],
      "metadata": {
        "colab": {
          "base_uri": "https://localhost:8080/"
        },
        "id": "pSoyr3-dY_aG",
        "outputId": "5802c85d-1eb5-4424-a69f-52ce5b3c353d"
      },
      "execution_count": 24,
      "outputs": [
        {
          "output_type": "stream",
          "name": "stdout",
          "text": [
            "Looking in indexes: https://pypi.org/simple, https://us-python.pkg.dev/colab-wheels/public/simple/\n",
            "Requirement already satisfied: torchviz in /usr/local/lib/python3.9/dist-packages (0.0.2)\n",
            "Requirement already satisfied: torch in /usr/local/lib/python3.9/dist-packages (from torchviz) (1.13.1+cu116)\n",
            "Requirement already satisfied: graphviz in /usr/local/lib/python3.9/dist-packages (from torchviz) (0.10.1)\n",
            "Requirement already satisfied: typing-extensions in /usr/local/lib/python3.9/dist-packages (from torch->torchviz) (4.5.0)\n"
          ]
        }
      ]
    },
    {
      "cell_type": "code",
      "execution_count": 25,
      "metadata": {
        "id": "JEWj0D3Mlg6D"
      },
      "outputs": [],
      "source": [
        "#Import the libraries\n",
        "\n",
        "\n",
        "import torch\n",
        "import torch.nn as nn\n",
        "import torchvision.datasets as dsets\n",
        "import torchvision.transforms as transforms\n",
        "from torch.autograd import Variable\n",
        "import matplotlib.pyplot as plt\n"
      ]
    },
    {
      "cell_type": "markdown",
      "source": [
        "# Initialize the hyper parameters"
      ],
      "metadata": {
        "id": "0ESPadlvV9s0"
      }
    },
    {
      "cell_type": "code",
      "source": [
        "\n",
        "input_size    = 784   # The image size = 28 x 28 = 784\n",
        "hidden_size   = 500   # The number of nodes at the hidden layer\n",
        "num_classes   = 10    # The number of output classes. In this case, from 0 to 9\n",
        "num_epochs    = 5     # The number of times entire dataset is trained\n",
        "batch_size    = 100   # The size of input data took for one iteration\n",
        "learning_rate = 1e-3  # The speed of convergence"
      ],
      "metadata": {
        "id": "vnwHrq-plzT-"
      },
      "execution_count": 26,
      "outputs": []
    },
    {
      "cell_type": "markdown",
      "source": [
        "# Load dataset"
      ],
      "metadata": {
        "id": "_nrghNkTWD5e"
      }
    },
    {
      "cell_type": "code",
      "source": [
        "\n",
        "train_dataset = dsets.MNIST(root='./data',\n",
        "                           train=True,\n",
        "                           transform=transforms.ToTensor(),\n",
        "                           download=True)\n",
        "\n",
        "test_dataset = dsets.MNIST(root='./data',\n",
        "                           train=False,\n",
        "                           transform=transforms.ToTensor())"
      ],
      "metadata": {
        "id": "uwYG_DB2FVAG"
      },
      "execution_count": 27,
      "outputs": []
    },
    {
      "cell_type": "code",
      "source": [
        "\n",
        "train_loader = torch.utils.data.DataLoader(dataset=train_dataset,\n",
        "                                          batch_size=batch_size,\n",
        "                                          shuffle=True)\n",
        "\n",
        "test_loader = torch.utils.data.DataLoader(dataset=test_dataset,\n",
        "                                          batch_size=batch_size,\n",
        "                                          shuffle=False)"
      ],
      "metadata": {
        "id": "mYH2Jl3JFYdD"
      },
      "execution_count": 28,
      "outputs": []
    },
    {
      "cell_type": "markdown",
      "source": [
        "# Building Neural Network"
      ],
      "metadata": {
        "id": "hChv9U1JouiC"
      }
    },
    {
      "cell_type": "code",
      "source": [
        "class Net(nn.Module):\n",
        "    def __init__(self, input_size, hidden_size, num_classes):\n",
        "        super(Net, self).__init__()                    # Inherited from the parent class nn.Module\n",
        "        self.fc1 = nn.Linear(input_size, hidden_size)  # 1st Full-Connected Layer: 784 (input data) -> 500 (hidden node)\n",
        "        self.relu = nn.ReLU()                          # Non-Linear ReLU Layer: max(0,x)\n",
        "        self.fc2 = nn.Linear(hidden_size, num_classes) # 2nd Full-Connected Layer: 500 (hidden node) -> 10 (output class)\n",
        "    \n",
        "    def forward(self, x):                              # Forward pass: stacking each layer together\n",
        "        out = self.fc1(x)\n",
        "        out = self.relu(out)\n",
        "        out = self.fc2(out)\n",
        "        return out"
      ],
      "metadata": {
        "id": "bX_a1rO_Fdql"
      },
      "execution_count": 29,
      "outputs": []
    },
    {
      "cell_type": "code",
      "source": [
        "net = Net(input_size, hidden_size, num_classes)"
      ],
      "metadata": {
        "id": "__cj6kz0FjI1"
      },
      "execution_count": 30,
      "outputs": []
    },
    {
      "cell_type": "markdown",
      "source": [
        "# Computational Graph of the network"
      ],
      "metadata": {
        "id": "1XkwqSe4B_cI"
      }
    },
    {
      "cell_type": "code",
      "source": [
        "# Define the computational graph\n",
        "from torchviz import make_dot\n",
        "\n",
        "x = torch.randn(1, 784)  # example input\n",
        "y = net(x)\n",
        "make_dot(y, params=dict(net.named_parameters()))"
      ],
      "metadata": {
        "colab": {
          "base_uri": "https://localhost:8080/",
          "height": 572
        },
        "id": "8lCZlXBZY3Vk",
        "outputId": "b03e7553-0858-4636-fb0e-89c00913b0ca"
      },
      "execution_count": 31,
      "outputs": [
        {
          "output_type": "execute_result",
          "data": {
            "text/plain": [
              "<graphviz.dot.Digraph at 0x7fd60b0288b0>"
            ],
            "image/svg+xml": "<?xml version=\"1.0\" encoding=\"UTF-8\" standalone=\"no\"?>\n<!DOCTYPE svg PUBLIC \"-//W3C//DTD SVG 1.1//EN\"\n \"http://www.w3.org/Graphics/SVG/1.1/DTD/svg11.dtd\">\n<!-- Generated by graphviz version 2.43.0 (0)\n -->\n<!-- Title: %3 Pages: 1 -->\n<svg width=\"340pt\" height=\"413pt\"\n viewBox=\"0.00 0.00 340.00 413.00\" xmlns=\"http://www.w3.org/2000/svg\" xmlns:xlink=\"http://www.w3.org/1999/xlink\">\n<g id=\"graph0\" class=\"graph\" transform=\"scale(1 1) rotate(0) translate(4 409)\">\n<title>%3</title>\n<polygon fill=\"white\" stroke=\"transparent\" points=\"-4,4 -4,-409 336,-409 336,4 -4,4\"/>\n<!-- 140557284457984 -->\n<g id=\"node1\" class=\"node\">\n<title>140557284457984</title>\n<polygon fill=\"#caff70\" stroke=\"black\" points=\"199,-31 134,-31 134,0 199,0 199,-31\"/>\n<text text-anchor=\"middle\" x=\"166.5\" y=\"-7\" font-family=\"monospace\" font-size=\"10.00\"> (1, 10)</text>\n</g>\n<!-- 140557284444384 -->\n<g id=\"node2\" class=\"node\">\n<title>140557284444384</title>\n<polygon fill=\"lightgrey\" stroke=\"black\" points=\"217,-86 116,-86 116,-67 217,-67 217,-86\"/>\n<text text-anchor=\"middle\" x=\"166.5\" y=\"-74\" font-family=\"monospace\" font-size=\"10.00\">AddmmBackward0</text>\n</g>\n<!-- 140557284444384&#45;&gt;140557284457984 -->\n<g id=\"edge13\" class=\"edge\">\n<title>140557284444384&#45;&gt;140557284457984</title>\n<path fill=\"none\" stroke=\"black\" d=\"M166.5,-66.79C166.5,-60.07 166.5,-50.4 166.5,-41.34\"/>\n<polygon fill=\"black\" stroke=\"black\" points=\"170,-41.19 166.5,-31.19 163,-41.19 170,-41.19\"/>\n</g>\n<!-- 140557284444960 -->\n<g id=\"node3\" class=\"node\">\n<title>140557284444960</title>\n<polygon fill=\"lightgrey\" stroke=\"black\" points=\"101,-141 0,-141 0,-122 101,-122 101,-141\"/>\n<text text-anchor=\"middle\" x=\"50.5\" y=\"-129\" font-family=\"monospace\" font-size=\"10.00\">AccumulateGrad</text>\n</g>\n<!-- 140557284444960&#45;&gt;140557284444384 -->\n<g id=\"edge1\" class=\"edge\">\n<title>140557284444960&#45;&gt;140557284444384</title>\n<path fill=\"none\" stroke=\"black\" d=\"M69.14,-121.98C87.8,-113.46 116.75,-100.23 138.24,-90.41\"/>\n<polygon fill=\"black\" stroke=\"black\" points=\"139.88,-93.51 147.52,-86.17 136.97,-87.14 139.88,-93.51\"/>\n</g>\n<!-- 140557285017696 -->\n<g id=\"node4\" class=\"node\">\n<title>140557285017696</title>\n<polygon fill=\"lightblue\" stroke=\"black\" points=\"83,-207 18,-207 18,-177 83,-177 83,-207\"/>\n<text text-anchor=\"middle\" x=\"50.5\" y=\"-195\" font-family=\"monospace\" font-size=\"10.00\">fc2.bias</text>\n<text text-anchor=\"middle\" x=\"50.5\" y=\"-184\" font-family=\"monospace\" font-size=\"10.00\"> (10)</text>\n</g>\n<!-- 140557285017696&#45;&gt;140557284444960 -->\n<g id=\"edge2\" class=\"edge\">\n<title>140557285017696&#45;&gt;140557284444960</title>\n<path fill=\"none\" stroke=\"black\" d=\"M50.5,-176.84C50.5,-169.21 50.5,-159.7 50.5,-151.45\"/>\n<polygon fill=\"black\" stroke=\"black\" points=\"54,-151.27 50.5,-141.27 47,-151.27 54,-151.27\"/>\n</g>\n<!-- 140557284444528 -->\n<g id=\"node5\" class=\"node\">\n<title>140557284444528</title>\n<polygon fill=\"lightgrey\" stroke=\"black\" points=\"214,-141 119,-141 119,-122 214,-122 214,-141\"/>\n<text text-anchor=\"middle\" x=\"166.5\" y=\"-129\" font-family=\"monospace\" font-size=\"10.00\">ReluBackward0</text>\n</g>\n<!-- 140557284444528&#45;&gt;140557284444384 -->\n<g id=\"edge3\" class=\"edge\">\n<title>140557284444528&#45;&gt;140557284444384</title>\n<path fill=\"none\" stroke=\"black\" d=\"M166.5,-121.75C166.5,-114.8 166.5,-104.85 166.5,-96.13\"/>\n<polygon fill=\"black\" stroke=\"black\" points=\"170,-96.09 166.5,-86.09 163,-96.09 170,-96.09\"/>\n</g>\n<!-- 140557284444144 -->\n<g id=\"node6\" class=\"node\">\n<title>140557284444144</title>\n<polygon fill=\"lightgrey\" stroke=\"black\" points=\"213,-201.5 112,-201.5 112,-182.5 213,-182.5 213,-201.5\"/>\n<text text-anchor=\"middle\" x=\"162.5\" y=\"-189.5\" font-family=\"monospace\" font-size=\"10.00\">AddmmBackward0</text>\n</g>\n<!-- 140557284444144&#45;&gt;140557284444528 -->\n<g id=\"edge4\" class=\"edge\">\n<title>140557284444144&#45;&gt;140557284444528</title>\n<path fill=\"none\" stroke=\"black\" d=\"M163.09,-182.37C163.65,-174.25 164.5,-161.81 165.21,-151.39\"/>\n<polygon fill=\"black\" stroke=\"black\" points=\"168.72,-151.38 165.91,-141.17 161.73,-150.91 168.72,-151.38\"/>\n</g>\n<!-- 140557284443184 -->\n<g id=\"node7\" class=\"node\">\n<title>140557284443184</title>\n<polygon fill=\"lightgrey\" stroke=\"black\" points=\"118,-267.5 17,-267.5 17,-248.5 118,-248.5 118,-267.5\"/>\n<text text-anchor=\"middle\" x=\"67.5\" y=\"-255.5\" font-family=\"monospace\" font-size=\"10.00\">AccumulateGrad</text>\n</g>\n<!-- 140557284443184&#45;&gt;140557284444144 -->\n<g id=\"edge5\" class=\"edge\">\n<title>140557284443184&#45;&gt;140557284444144</title>\n<path fill=\"none\" stroke=\"black\" d=\"M80.31,-248.37C95.89,-237.87 122.43,-220 141.12,-207.4\"/>\n<polygon fill=\"black\" stroke=\"black\" points=\"143.25,-210.19 149.59,-201.7 139.34,-204.38 143.25,-210.19\"/>\n</g>\n<!-- 140557285019136 -->\n<g id=\"node8\" class=\"node\">\n<title>140557285019136</title>\n<polygon fill=\"lightblue\" stroke=\"black\" points=\"100,-339 35,-339 35,-309 100,-309 100,-339\"/>\n<text text-anchor=\"middle\" x=\"67.5\" y=\"-327\" font-family=\"monospace\" font-size=\"10.00\">fc1.bias</text>\n<text text-anchor=\"middle\" x=\"67.5\" y=\"-316\" font-family=\"monospace\" font-size=\"10.00\"> (500)</text>\n</g>\n<!-- 140557285019136&#45;&gt;140557284443184 -->\n<g id=\"edge6\" class=\"edge\">\n<title>140557285019136&#45;&gt;140557284443184</title>\n<path fill=\"none\" stroke=\"black\" d=\"M67.5,-308.8C67.5,-299.7 67.5,-287.79 67.5,-277.9\"/>\n<polygon fill=\"black\" stroke=\"black\" points=\"71,-277.84 67.5,-267.84 64,-277.84 71,-277.84\"/>\n</g>\n<!-- 140557284443520 -->\n<g id=\"node9\" class=\"node\">\n<title>140557284443520</title>\n<polygon fill=\"lightgrey\" stroke=\"black\" points=\"213,-267.5 136,-267.5 136,-248.5 213,-248.5 213,-267.5\"/>\n<text text-anchor=\"middle\" x=\"174.5\" y=\"-255.5\" font-family=\"monospace\" font-size=\"10.00\">TBackward0</text>\n</g>\n<!-- 140557284443520&#45;&gt;140557284444144 -->\n<g id=\"edge7\" class=\"edge\">\n<title>140557284443520&#45;&gt;140557284444144</title>\n<path fill=\"none\" stroke=\"black\" d=\"M172.88,-248.37C171.14,-239.07 168.31,-223.98 166.04,-211.9\"/>\n<polygon fill=\"black\" stroke=\"black\" points=\"169.45,-211.09 164.17,-201.91 162.57,-212.38 169.45,-211.09\"/>\n</g>\n<!-- 140557284443712 -->\n<g id=\"node10\" class=\"node\">\n<title>140557284443712</title>\n<polygon fill=\"lightgrey\" stroke=\"black\" points=\"225,-333.5 124,-333.5 124,-314.5 225,-314.5 225,-333.5\"/>\n<text text-anchor=\"middle\" x=\"174.5\" y=\"-321.5\" font-family=\"monospace\" font-size=\"10.00\">AccumulateGrad</text>\n</g>\n<!-- 140557284443712&#45;&gt;140557284443520 -->\n<g id=\"edge8\" class=\"edge\">\n<title>140557284443712&#45;&gt;140557284443520</title>\n<path fill=\"none\" stroke=\"black\" d=\"M174.5,-314.37C174.5,-305.16 174.5,-290.29 174.5,-278.27\"/>\n<polygon fill=\"black\" stroke=\"black\" points=\"178,-277.91 174.5,-267.91 171,-277.91 178,-277.91\"/>\n</g>\n<!-- 140557285019376 -->\n<g id=\"node11\" class=\"node\">\n<title>140557285019376</title>\n<polygon fill=\"lightblue\" stroke=\"black\" points=\"216,-405 133,-405 133,-375 216,-375 216,-405\"/>\n<text text-anchor=\"middle\" x=\"174.5\" y=\"-393\" font-family=\"monospace\" font-size=\"10.00\">fc1.weight</text>\n<text text-anchor=\"middle\" x=\"174.5\" y=\"-382\" font-family=\"monospace\" font-size=\"10.00\"> (500, 784)</text>\n</g>\n<!-- 140557285019376&#45;&gt;140557284443712 -->\n<g id=\"edge9\" class=\"edge\">\n<title>140557285019376&#45;&gt;140557284443712</title>\n<path fill=\"none\" stroke=\"black\" d=\"M174.5,-374.8C174.5,-365.7 174.5,-353.79 174.5,-343.9\"/>\n<polygon fill=\"black\" stroke=\"black\" points=\"178,-343.84 174.5,-333.84 171,-343.84 178,-343.84\"/>\n</g>\n<!-- 140557284443856 -->\n<g id=\"node12\" class=\"node\">\n<title>140557284443856</title>\n<polygon fill=\"lightgrey\" stroke=\"black\" points=\"313,-141 236,-141 236,-122 313,-122 313,-141\"/>\n<text text-anchor=\"middle\" x=\"274.5\" y=\"-129\" font-family=\"monospace\" font-size=\"10.00\">TBackward0</text>\n</g>\n<!-- 140557284443856&#45;&gt;140557284444384 -->\n<g id=\"edge10\" class=\"edge\">\n<title>140557284443856&#45;&gt;140557284444384</title>\n<path fill=\"none\" stroke=\"black\" d=\"M257.15,-121.98C239.93,-113.54 213.3,-100.47 193.35,-90.68\"/>\n<polygon fill=\"black\" stroke=\"black\" points=\"194.69,-87.43 184.17,-86.17 191.6,-93.72 194.69,-87.43\"/>\n</g>\n<!-- 140557284444096 -->\n<g id=\"node13\" class=\"node\">\n<title>140557284444096</title>\n<polygon fill=\"lightgrey\" stroke=\"black\" points=\"332,-201.5 231,-201.5 231,-182.5 332,-182.5 332,-201.5\"/>\n<text text-anchor=\"middle\" x=\"281.5\" y=\"-189.5\" font-family=\"monospace\" font-size=\"10.00\">AccumulateGrad</text>\n</g>\n<!-- 140557284444096&#45;&gt;140557284443856 -->\n<g id=\"edge11\" class=\"edge\">\n<title>140557284444096&#45;&gt;140557284443856</title>\n<path fill=\"none\" stroke=\"black\" d=\"M280.47,-182.37C279.5,-174.25 278.01,-161.81 276.76,-151.39\"/>\n<polygon fill=\"black\" stroke=\"black\" points=\"280.2,-150.68 275.54,-141.17 273.25,-151.51 280.2,-150.68\"/>\n</g>\n<!-- 140557285841072 -->\n<g id=\"node14\" class=\"node\">\n<title>140557285841072</title>\n<polygon fill=\"lightblue\" stroke=\"black\" points=\"320,-273 243,-273 243,-243 320,-243 320,-273\"/>\n<text text-anchor=\"middle\" x=\"281.5\" y=\"-261\" font-family=\"monospace\" font-size=\"10.00\">fc2.weight</text>\n<text text-anchor=\"middle\" x=\"281.5\" y=\"-250\" font-family=\"monospace\" font-size=\"10.00\"> (10, 500)</text>\n</g>\n<!-- 140557285841072&#45;&gt;140557284444096 -->\n<g id=\"edge12\" class=\"edge\">\n<title>140557285841072&#45;&gt;140557284444096</title>\n<path fill=\"none\" stroke=\"black\" d=\"M281.5,-242.8C281.5,-233.7 281.5,-221.79 281.5,-211.9\"/>\n<polygon fill=\"black\" stroke=\"black\" points=\"285,-211.84 281.5,-201.84 278,-211.84 285,-211.84\"/>\n</g>\n</g>\n</svg>\n"
          },
          "metadata": {},
          "execution_count": 31
        }
      ]
    },
    {
      "cell_type": "code",
      "source": [
        "# Generate a random input tensor\n",
        "input_tensor = torch.randn(1, input_size)\n",
        "\n",
        "# Call make_dot() to generate the graph\n",
        "graph = make_dot(net(input_tensor), params=dict(net.named_parameters()))\n",
        "graph.render('FNN', format='png')"
      ],
      "metadata": {
        "colab": {
          "base_uri": "https://localhost:8080/",
          "height": 35
        },
        "id": "-bCZIqfWdc2A",
        "outputId": "79c413c3-c561-4506-bc52-bbf0e15eb7d7"
      },
      "execution_count": 32,
      "outputs": [
        {
          "output_type": "execute_result",
          "data": {
            "text/plain": [
              "'FNN.png'"
            ],
            "application/vnd.google.colaboratory.intrinsic+json": {
              "type": "string"
            }
          },
          "metadata": {},
          "execution_count": 32
        }
      ]
    },
    {
      "cell_type": "code",
      "source": [
        "use_cuda = True"
      ],
      "metadata": {
        "id": "17WddwqOGA2F"
      },
      "execution_count": 33,
      "outputs": []
    },
    {
      "cell_type": "code",
      "source": [
        "if use_cuda and torch.cuda.is_available():\n",
        "    net.cuda()"
      ],
      "metadata": {
        "id": "9ZCC1A_tGDqw"
      },
      "execution_count": 34,
      "outputs": []
    },
    {
      "cell_type": "code",
      "source": [
        "criterion = nn.CrossEntropyLoss()\n",
        "optimizer = torch.optim.Adam(net.parameters(), lr=learning_rate)"
      ],
      "metadata": {
        "id": "Qh39AxkEGHy8"
      },
      "execution_count": 35,
      "outputs": []
    },
    {
      "cell_type": "markdown",
      "source": [
        "# Training and testing "
      ],
      "metadata": {
        "id": "2iBPt8nvCHU1"
      }
    },
    {
      "cell_type": "code",
      "source": [
        "# Create a list to store training loss and test loss\n",
        "train_losses = []\n",
        "test_losses = []"
      ],
      "metadata": {
        "id": "NhiM6JCoJ9et"
      },
      "execution_count": 42,
      "outputs": []
    },
    {
      "cell_type": "code",
      "source": [
        "for epoch in range(num_epochs):\n",
        "    for i, (images, labels) in enumerate(train_loader):   # Load a batch of images with its (index, data, class)\n",
        "        images = Variable(images.view(-1, 28*28))         # Convert torch tensor to Variable: change image from a vector of size 784 to a matrix of 28 x 28\n",
        "        labels = Variable(labels)\n",
        "        \n",
        "        if use_cuda and torch.cuda.is_available():\n",
        "            images = images.cuda()\n",
        "            labels = labels.cuda()\n",
        "        \n",
        "        optimizer.zero_grad()                             # Intialize the hidden weight to all zeros\n",
        "        outputs = net(images)                             # Forward pass: compute the output class given a image\n",
        "        loss = criterion(outputs, labels)                 # Compute the loss: difference between the output class and the pre-given label\n",
        "        loss.backward()                                   # Backward pass: compute the weight\n",
        "        optimizer.step()                                  # Optimizer: update the weights of hidden nodes\n",
        "        \n",
        "        train_losses.append(loss.item())\n",
        "        if (i+1) % 100 == 0:                              # Logging\n",
        "            print('Epoch [%d/%d], Step [%d/%d], Loss: %.4f'\n",
        "                 %(epoch+1, num_epochs, i+1, len(train_dataset)//batch_size, loss.data))\n"
      ],
      "metadata": {
        "colab": {
          "base_uri": "https://localhost:8080/"
        },
        "id": "Kq_in3NXGJV6",
        "outputId": "526d5af1-9429-4715-f3b6-9bab4090c733"
      },
      "execution_count": 43,
      "outputs": [
        {
          "output_type": "stream",
          "name": "stdout",
          "text": [
            "Epoch [1/5], Step [100/600], Loss: 0.0133\n",
            "Epoch [1/5], Step [200/600], Loss: 0.0498\n",
            "Epoch [1/5], Step [300/600], Loss: 0.0085\n",
            "Epoch [1/5], Step [400/600], Loss: 0.0412\n",
            "Epoch [1/5], Step [500/600], Loss: 0.0257\n",
            "Epoch [1/5], Step [600/600], Loss: 0.0197\n",
            "Epoch [2/5], Step [100/600], Loss: 0.0117\n",
            "Epoch [2/5], Step [200/600], Loss: 0.0039\n",
            "Epoch [2/5], Step [300/600], Loss: 0.0241\n",
            "Epoch [2/5], Step [400/600], Loss: 0.0251\n",
            "Epoch [2/5], Step [500/600], Loss: 0.0079\n",
            "Epoch [2/5], Step [600/600], Loss: 0.0016\n",
            "Epoch [3/5], Step [100/600], Loss: 0.0128\n",
            "Epoch [3/5], Step [200/600], Loss: 0.0028\n",
            "Epoch [3/5], Step [300/600], Loss: 0.0341\n",
            "Epoch [3/5], Step [400/600], Loss: 0.0153\n",
            "Epoch [3/5], Step [500/600], Loss: 0.0116\n",
            "Epoch [3/5], Step [600/600], Loss: 0.0031\n",
            "Epoch [4/5], Step [100/600], Loss: 0.0025\n",
            "Epoch [4/5], Step [200/600], Loss: 0.0053\n",
            "Epoch [4/5], Step [300/600], Loss: 0.0034\n",
            "Epoch [4/5], Step [400/600], Loss: 0.0041\n",
            "Epoch [4/5], Step [500/600], Loss: 0.0020\n",
            "Epoch [4/5], Step [600/600], Loss: 0.0288\n",
            "Epoch [5/5], Step [100/600], Loss: 0.0013\n",
            "Epoch [5/5], Step [200/600], Loss: 0.0070\n",
            "Epoch [5/5], Step [300/600], Loss: 0.0063\n",
            "Epoch [5/5], Step [400/600], Loss: 0.0081\n",
            "Epoch [5/5], Step [500/600], Loss: 0.0472\n",
            "Epoch [5/5], Step [600/600], Loss: 0.0030\n"
          ]
        }
      ]
    },
    {
      "cell_type": "code",
      "source": [
        "correct = 0\n",
        "total = 0\n",
        "for epoch in range(num_epochs):\n",
        "  for i,(images, labels)  in enumerate(test_loader):\n",
        "      images = Variable(images.view(-1, 28*28))\n",
        "      labels = Variable(labels)\n",
        "      if use_cuda and torch.cuda.is_available():\n",
        "          images = images.cuda()\n",
        "          labels = labels.cuda()\n",
        "      \n",
        "      optimizer.zero_grad()                             # Intialize the hidden weight to all zeros\n",
        "      outputs = net(images)                             # Forward pass: compute the output class given a image\n",
        "      loss = criterion(outputs, labels)                 # Compute the loss: difference between the output class and the pre-given label\n",
        "      loss.backward()                                   # Backward pass: compute the weight\n",
        "      optimizer.step()                                  # Optimizer: update the weights of hidden nodes\n",
        "        \n",
        "    \n",
        "      test_losses.append(loss.item())\n",
        "\n",
        "      _, predicted = torch.max(outputs.data, 1)  # Choose the best class from the output: The class with the best score\n",
        "      total += labels.size(0)                    # Increment the total count\n",
        "      correct += (predicted == labels).sum()     # Increment the correct count\n",
        "\n",
        "      \n",
        "  print('Accuracy of the network on the 10K test images: %d %%' % (100 * correct / total))\n",
        "    "
      ],
      "metadata": {
        "colab": {
          "base_uri": "https://localhost:8080/"
        },
        "id": "RkKX-RJ2QuEF",
        "outputId": "d1390980-69e5-4f2f-9c39-8afcbcc4d507"
      },
      "execution_count": 44,
      "outputs": [
        {
          "output_type": "stream",
          "name": "stdout",
          "text": [
            "Accuracy of the network on the 10K test images: 98 %\n",
            "Accuracy of the network on the 10K test images: 98 %\n",
            "Accuracy of the network on the 10K test images: 99 %\n",
            "Accuracy of the network on the 10K test images: 99 %\n",
            "Accuracy of the network on the 10K test images: 99 %\n"
          ]
        }
      ]
    },
    {
      "cell_type": "code",
      "source": [
        "fig, (ax1, ax2) = plt.subplots(1, 2, figsize=(12, 5))\n",
        "\n",
        "ax1.plot(train_losses, label='Training loss')\n",
        "ax1.set_xlabel('Iterations')\n",
        "ax1.set_ylabel('Loss')\n",
        "ax1.legend()\n",
        "\n",
        "ax2.plot(test_losses, label='Testing loss')\n",
        "ax2.set_xlabel('Iterations')\n",
        "ax2.set_ylabel('Loss')\n",
        "ax2.legend()\n",
        "\n",
        "plt.show()\n",
        "\n"
      ],
      "metadata": {
        "colab": {
          "base_uri": "https://localhost:8080/",
          "height": 334
        },
        "id": "oUjYMKSMesJn",
        "outputId": "f2ef7d20-8ac9-475c-f71b-ac47674b79dd"
      },
      "execution_count": 45,
      "outputs": [
        {
          "output_type": "display_data",
          "data": {
            "text/plain": [
              "<Figure size 864x360 with 2 Axes>"
            ],
            "image/png": "[encoded data removed]"
          },
          "metadata": {
            "needs_background": "light"
          }
        }
      ]
    }
  ]
}